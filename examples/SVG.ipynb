{
 "cells": [
  {
   "cell_type": "code",
   "execution_count": 17,
   "metadata": {},
   "outputs": [],
   "source": [
    "from svgelements import SVG, Circle, Ellipse, Path, Rect, Image\n",
    "import re\n",
    "import numpy as np"
   ]
  },
  {
   "cell_type": "code",
   "execution_count": 4,
   "metadata": {},
   "outputs": [],
   "source": [
    "LABEL_TAG = re.compile(r'label=\"(.+?)\"')\n",
    "LABEL_PARSE = (\n",
    "    r\"([\\w\\W ()]+): \\(?([-/\\d \\w\\.%]+)\\)?(?:, ?)?(?:\\(?([-/\\d \\w\\.%]+)\\)?)?\"\n",
    ")"
   ]
  },
  {
   "cell_type": "code",
   "execution_count": 55,
   "metadata": {},
   "outputs": [],
   "source": [
    "def _label_from_element(element):\n",
    "    # TODO: rework label logic because we won't use the old one\n",
    "    if found_label := re.findall(LABEL_TAG, element.string_xml()):\n",
    "        label = found_label[0]\n",
    "        label_name, *label_values = re.search(LABEL_PARSE, label).groups()\n",
    "\n",
    "        return label, label_name, label_values"
   ]
  },
  {
   "cell_type": "code",
   "execution_count": 5,
   "metadata": {},
   "outputs": [
    {
     "ename": "NameError",
     "evalue": "name 'found_label' is not defined",
     "output_type": "error",
     "traceback": [
      "\u001b[1;31m---------------------------------------------------------------------------\u001b[0m",
      "\u001b[1;31mNameError\u001b[0m                                 Traceback (most recent call last)",
      "Cell \u001b[1;32mIn[5], line 1\u001b[0m\n\u001b[1;32m----> 1\u001b[0m label_name, \u001b[38;5;241m*\u001b[39mlabel_values \u001b[38;5;241m=\u001b[39m re\u001b[38;5;241m.\u001b[39msearch(LABEL_PARSE, \u001b[43mfound_label\u001b[49m[\u001b[38;5;241m0\u001b[39m])\u001b[38;5;241m.\u001b[39mgroups()\n",
      "\u001b[1;31mNameError\u001b[0m: name 'found_label' is not defined"
     ]
    }
   ],
   "source": [
    "label_name, *label_values = re.search(LABEL_PARSE, found_label[0]).groups()"
   ]
  },
  {
   "cell_type": "code",
   "execution_count": 59,
   "metadata": {},
   "outputs": [
    {
     "name": "stdout",
     "output_type": "stream",
     "text": [
      "('MATURITY: Low Level Conversion, High Level Conversion', 'MATURITY', ['Low Level Conversion', 'High Level Conversion'])\n",
      "('MATURITY: Immature, Oil Window', 'MATURITY', ['Immature', 'Oil Window'])\n",
      "('MATURITY: Oil Window, Condensate-Wet Gas Zone', 'MATURITY', ['Oil Window', 'Condensate-Wet Gas Zone'])\n",
      "('MATURITY: Condensate-Wet Gas Zone, Dry Gas Window', 'MATURITY', ['Condensate-Wet Gas Zone', 'Dry Gas Window'])\n"
     ]
    }
   ],
   "source": [
    "svg = SVG.parse(\n",
    "    r\"D:\\University\\Магистратура\\Диплом Магистратура\\Графики\\PI-Tmax\\Akram, R & Faqi, A & Jihad, W & Sherwani, G & Al-Ansari, N, 2021.svg\",\n",
    "    transform=\"rotate(180)\",\n",
    ")\n",
    "for element in svg.elements(lambda elem: isinstance(elem, Path)):\n",
    "    print(_label_from_element(element))"
   ]
  },
  {
   "cell_type": "code",
   "execution_count": 51,
   "metadata": {},
   "outputs": [
    {
     "data": {
      "text/plain": [
       "(array([103.52226,  30.5357 ]), array([794.     , 877.50763]))"
      ]
     },
     "execution_count": 51,
     "metadata": {},
     "output_type": "execute_result"
    }
   ],
   "source": [
    "border_points = svg.union_bbox(svg.elements(lambda elem: not isinstance(elem, Image)), with_stroke=False)\n",
    "edge_points = np.array(border_points).reshape(2, -1)\n",
    "max_point = np.abs(edge_points.min(axis=0))\n",
    "min_point = np.abs(edge_points.max(axis=0))\n",
    "\n",
    "min_point, max_point  # (x_min, y_min), (x_max, y_max)"
   ]
  },
  {
   "cell_type": "code",
   "execution_count": null,
   "metadata": {},
   "outputs": [
    {
     "name": "stdout",
     "output_type": "stream",
     "text": [
      "m -63.019531,-389.9375 c -252.319849,5.68434188608E-14 -504.639689,5.68434188608E-14 -756.959539,1.13686837722E-13 Z\n",
      "m -283.92187,-20.5061 c 0,-123.1438 -5.68434188608E-14,-246.2876 -5.68434188608E-14,-369.4314 Z\n",
      "m -410.52244,-20.5061 c 0,-123.1438 -5.68434188608E-14,-246.2876 -5.68434188608E-14,-369.4314 Z\n",
      "m -536.10487,-20.5061 c 0,-136.83194 0,-273.66387 0,-410.49581 Z\n"
     ]
    }
   ],
   "source": [
    "for element in svg.elements(lambda elem: isinstance(elem, Path)):\n",
    "    print(element)"
   ]
  },
  {
   "cell_type": "code",
   "execution_count": 52,
   "metadata": {},
   "outputs": [
    {
     "data": {
      "text/plain": [
       "(-794.0000000000001, -877.50763, -103.52226, -30.535699999999984)"
      ]
     },
     "execution_count": 52,
     "metadata": {},
     "output_type": "execute_result"
    }
   ],
   "source": [
    "border_points"
   ]
  },
  {
   "cell_type": "code",
   "execution_count": 53,
   "metadata": {},
   "outputs": [
    {
     "data": {
      "text/plain": [
       "(array([104.52226,  31.5357 ]), array([792.99998, 876.50762]))"
      ]
     },
     "execution_count": 53,
     "metadata": {},
     "output_type": "execute_result"
    }
   ],
   "source": [
    "border_points = []\n",
    "# Get all Rectangles present in the image\n",
    "# self.svg.union_bbox()\n",
    "for element in svg.elements(lambda elem: isinstance(elem, Rect)):\n",
    "    border_box = element.bbox()\n",
    "    border_points.extend(\n",
    "        [\n",
    "            (border_box[0], border_box[1]),\n",
    "            (border_box[2], border_box[3]),\n",
    "        ]\n",
    "    )\n",
    "\n",
    "# Find edge points\n",
    "edge_points = np.array(border_points)\n",
    "max_point = np.abs(edge_points.min(axis=0))\n",
    "min_point = np.abs(edge_points.max(axis=0))\n",
    "\n",
    "min_point, max_point  # (x_min, y_min), (x_max, y_max)"
   ]
  },
  {
   "cell_type": "code",
   "execution_count": 54,
   "metadata": {},
   "outputs": [
    {
     "data": {
      "text/plain": [
       "array([[-792.99998, -876.50762],\n",
       "       [-104.52226,  -31.5357 ]])"
      ]
     },
     "execution_count": 54,
     "metadata": {},
     "output_type": "execute_result"
    }
   ],
   "source": [
    "edge_points"
   ]
  },
  {
   "cell_type": "code",
   "execution_count": 72,
   "metadata": {},
   "outputs": [
    {
     "data": {
      "text/plain": [
       "{'agg_filter': None,\n",
       " 'alpha': None,\n",
       " 'animated': False,\n",
       " 'antialiased': True,\n",
       " 'bbox': Bbox([[0.0, 0.0], [0.0, 0.0]]),\n",
       " 'children': [],\n",
       " 'clip_box': None,\n",
       " 'clip_on': True,\n",
       " 'clip_path': None,\n",
       " 'color': 'C0',\n",
       " 'dash_capstyle': 'butt',\n",
       " 'dash_joinstyle': 'round',\n",
       " 'data': ([0], [0]),\n",
       " 'drawstyle': 'default',\n",
       " 'figure': None,\n",
       " 'fillstyle': 'full',\n",
       " 'gapcolor': None,\n",
       " 'gid': None,\n",
       " 'in_layout': True,\n",
       " 'label': '',\n",
       " 'linestyle': '-',\n",
       " 'linewidth': 1.5,\n",
       " 'marker': 'None',\n",
       " 'markeredgecolor': 'C0',\n",
       " 'markeredgewidth': 1.0,\n",
       " 'markerfacecolor': 'C0',\n",
       " 'markerfacecoloralt': 'none',\n",
       " 'markersize': 6.0,\n",
       " 'markevery': None,\n",
       " 'mouseover': False,\n",
       " 'path': Path(array([[0., 0.]]), None),\n",
       " 'path_effects': [],\n",
       " 'picker': None,\n",
       " 'pickradius': 5,\n",
       " 'rasterized': False,\n",
       " 'sketch_params': None,\n",
       " 'snap': None,\n",
       " 'solid_capstyle': 'projecting',\n",
       " 'solid_joinstyle': 'round',\n",
       " 'tightbbox': Bbox([[0.0, 0.0], [0.0, 0.0]]),\n",
       " 'transform': <matplotlib.transforms.IdentityTransform at 0x1a44a1b4d50>,\n",
       " 'transformed_clip_path_and_affine': (None, None),\n",
       " 'url': None,\n",
       " 'visible': True,\n",
       " 'window_extent': Bbox([[0.0, 0.0], [0.0, 0.0]]),\n",
       " 'xdata': [0],\n",
       " 'xydata': array([[0., 0.]]),\n",
       " 'ydata': [0],\n",
       " 'zorder': 2}"
      ]
     },
     "execution_count": 72,
     "metadata": {},
     "output_type": "execute_result"
    }
   ],
   "source": [
    "from matplotlib.artist import ArtistInspector\n",
    "from matplotlib.lines import Line2D\n",
    "from matplotlib.patches import PathPatch\n",
    "\n",
    "ArtistInspector(Line2D([0], [0])).properties()"
   ]
  }
 ],
 "metadata": {
  "kernelspec": {
   "display_name": "ap",
   "language": "python",
   "name": "python3"
  },
  "language_info": {
   "codemirror_mode": {
    "name": "ipython",
    "version": 3
   },
   "file_extension": ".py",
   "mimetype": "text/x-python",
   "name": "python",
   "nbconvert_exporter": "python",
   "pygments_lexer": "ipython3",
   "version": "3.11.6"
  }
 },
 "nbformat": 4,
 "nbformat_minor": 2
}
